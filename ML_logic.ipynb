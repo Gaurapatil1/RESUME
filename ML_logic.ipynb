{
 "cells": [
  {
   "cell_type": "markdown",
   "metadata": {},
   "source": [
    "# My First code for ML logic on RESUME ANALYSER"
   ]
  },
  {
   "cell_type": "code",
   "execution_count": 9,
   "metadata": {},
   "outputs": [
    {
     "name": "stdout",
     "output_type": "stream",
     "text": [
      "Hello\n"
     ]
    }
   ],
   "source": [
    "print(\"Hello\")"
   ]
  },
  {
   "cell_type": "markdown",
   "metadata": {},
   "source": [
    "# Product Analysis"
   ]
  },
  {
   "cell_type": "code",
   "execution_count": 1,
   "metadata": {},
   "outputs": [],
   "source": [
    "import pandas as pd\n",
    "\n",
    "# Create a simple DataFrame with product data\n",
    "data = {\n",
    "    \"ProductID\": [1, 2, 3],\n",
    "    \"ProductName\": [\"Laptop\", \"Smartphone\", \"Tablet\"],\n",
    "    \"Price\": [1000, 500, 300],\n",
    "    \"Stock\": [50, 200, 150]\n",
    "}\n",
    "\n",
    "df = pd.DataFrame(data)\n"
   ]
  },
  {
   "cell_type": "code",
   "execution_count": 11,
   "metadata": {},
   "outputs": [
    {
     "data": {
      "image/png": "[encoded data removed]",
      "text/plain": [
       "<Figure size 640x480 with 1 Axes>"
      ]
     },
     "metadata": {},
     "output_type": "display_data"
    }
   ],
   "source": [
    "import matplotlib.pyplot as plt\n",
    "plt.scatter(df[\"Price\"], df[\"Stock\"], color='blue')\n",
    "plt.show()\n"
   ]
  },
  {
   "cell_type": "markdown",
   "metadata": {},
   "source": [
    "# Data from resume_dataset"
   ]
  },
  {
   "cell_type": "code",
   "execution_count": 16,
   "metadata": {},
   "outputs": [
    {
     "name": "stdout",
     "output_type": "stream",
     "text": [
      "   Resume_ID              Name                                        Skills  \\\n",
      "0          1        Ashley Ali                      TensorFlow, NLP, Pytorch   \n",
      "1          2      Wesley Roman  Deep Learning, Machine Learning, Python, SQL   \n",
      "2          3     Corey Sanchez         Ethical Hacking, Cybersecurity, Linux   \n",
      "3          4  Elizabeth Carney                   Python, Pytorch, TensorFlow   \n",
      "4          5        Julie Hill                              SQL, React, Java   \n",
      "\n",
      "   Experience (Years) Education                Certifications  \\\n",
      "0                  10      B.Sc                           NaN   \n",
      "1                  10       MBA                     Google ML   \n",
      "2                   1       MBA  Deep Learning Specialization   \n",
      "3                   7    B.Tech                 AWS Certified   \n",
      "4                   4       PhD                           NaN   \n",
      "\n",
      "                Job Role Recruiter Decision  Salary Expectation ($)  \\\n",
      "0          AI Researcher               Hire                  104895   \n",
      "1         Data Scientist               Hire                  113002   \n",
      "2  Cybersecurity Analyst               Hire                   71766   \n",
      "3          AI Researcher               Hire                   46848   \n",
      "4      Software Engineer               Hire                   87441   \n",
      "\n",
      "   Projects Count  AI Score (0-100)  \n",
      "0               8               100  \n",
      "1               1               100  \n",
      "2               7                70  \n",
      "3               0                95  \n",
      "4               9               100  \n"
     ]
    }
   ],
   "source": [
    "import pandas as pd\n",
    "\n",
    "# Load the dataset from the same folder as the Jupyter Notebook\n",
    "df = pd.read_csv(\"data/resume_dataset.csv\")\n",
    "\n",
    "# Display the first 5 rows of the dataset\n",
    "print(df.head())"
   ]
  },
  {
   "cell_type": "code",
   "execution_count": 2,
   "metadata": {},
   "outputs": [
    {
     "name": "stdout",
     "output_type": "stream",
     "text": [
      "Model saved successfully!\n"
     ]
    }
   ],
   "source": [
    "from sklearn.linear_model import LogisticRegression\n",
    "import pickle\n",
    "\n",
    "# Example feature matrix (X) and target variable (y)\n",
    "X = [[1, 2], [2, 3], [3, 4], [4, 5]]  # Replace with your actual features\n",
    "y = [0, 1, 0, 1]  # Replace with your actual labels\n",
    "\n",
    "# Initialize and train the Logistic Regression model\n",
    "model = LogisticRegression()\n",
    "model.fit(X, y)\n",
    "\n",
    "# Save the trained model to a file\n",
    "pickle.dump(model, open(\"model/job_predictor.pkl\", \"wb\"))\n",
    "\n",
    "print(\"Model saved successfully!\")"
   ]
  }
 ],
 "metadata": {
  "kernelspec": {
   "display_name": "Python 3",
   "language": "python",
   "name": "python3"
  },
  "language_info": {
   "codemirror_mode": {
    "name": "ipython",
    "version": 3
   },
   "file_extension": ".py",
   "mimetype": "text/x-python",
   "name": "python",
   "nbconvert_exporter": "python",
   "pygments_lexer": "ipython3",
   "version": "3.13.1"
  }
 },
 "nbformat": 4,
 "nbformat_minor": 2
}
